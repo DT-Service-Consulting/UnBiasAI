{
 "cells": [
  {
   "cell_type": "markdown",
   "metadata": {},
   "source": [
    "Imports"
   ]
  },
  {
   "cell_type": "code",
   "metadata": {
    "ExecuteTime": {
     "end_time": "2025-05-02T12:10:51.250772Z",
     "start_time": "2025-05-02T12:10:50.448573Z"
    }
   },
   "source": [
    "import pandas as pd\n",
    "import os\n",
    "from dotenv import load_dotenv\n",
    "from unbiasai.config import DATA_DIR\n",
    "from unbiasai.utils import generate_embedding\n",
    "from unbiasai.utils import get_embedding\n",
    "#from deepseek import Embeddings"
   ],
   "outputs": [],
   "execution_count": 1
  },
  {
   "cell_type": "markdown",
   "metadata": {},
   "source": [
    "Load data"
   ]
  },
  {
   "cell_type": "code",
   "metadata": {
    "ExecuteTime": {
     "end_time": "2025-05-02T12:10:51.309613Z",
     "start_time": "2025-05-02T12:10:51.303146Z"
    }
   },
   "source": [
    "file_path = DATA_DIR / 'dataset_retrieval_recency.csv'\n",
    "df = pd.read_csv(file_path)"
   ],
   "outputs": [],
   "execution_count": 2
  },
  {
   "cell_type": "markdown",
   "metadata": {},
   "source": [
    "Create subset of data for test"
   ]
  },
  {
   "cell_type": "code",
   "metadata": {
    "ExecuteTime": {
     "end_time": "2025-05-02T12:10:51.319367Z",
     "start_time": "2025-05-02T12:10:51.317778Z"
    }
   },
   "source": [
    "df_30 = df.head(30)"
   ],
   "outputs": [],
   "execution_count": 3
  },
  {
   "cell_type": "markdown",
   "metadata": {},
   "source": [
    "Load API key"
   ]
  },
  {
   "cell_type": "code",
   "metadata": {
    "ExecuteTime": {
     "end_time": "2025-05-02T12:10:51.326851Z",
     "start_time": "2025-05-02T12:10:51.324873Z"
    }
   },
   "source": [
    "load_dotenv()\n",
    "api_key = os.getenv(\"DEEPSEEK_API_KEY\")\n",
    "model_name = \"deepseek\"\n",
    "\n",
    "#api_key = os.getenv(\"COHERE_API_KEY\")\n",
    "#model_name = \"cohere\"\n",
    "\n",
    "api_key = os.getenv(\"CLAUDE_API_KEY\")\n",
    "model_name = \"claude\""
   ],
   "outputs": [],
   "execution_count": 4
  },
  {
   "metadata": {
    "ExecuteTime": {
     "end_time": "2025-05-02T12:10:51.335771Z",
     "start_time": "2025-05-02T12:10:51.333596Z"
    }
   },
   "cell_type": "code",
   "source": [
    "#initialize llm\n",
    "from unbiasai.utils import initialize_llm\n",
    "llm = initialize_llm(model_name, api_key)"
   ],
   "outputs": [
    {
     "name": "stdout",
     "output_type": "stream",
     "text": [
      "LLM initialized correctly: claude, llm: model='claude-3-7-sonnet-latest' anthropic_api_url='https://api.anthropic.com' anthropic_api_key=SecretStr('**********') model_kwargs={}\n"
     ]
    }
   ],
   "execution_count": 5
  },
  {
   "cell_type": "markdown",
   "metadata": {},
   "source": [
    "Generate embedding"
   ]
  },
  {
   "cell_type": "code",
   "metadata": {
    "ExecuteTime": {
     "end_time": "2025-05-02T12:10:51.454974Z",
     "start_time": "2025-05-02T12:10:51.344246Z"
    }
   },
   "source": [
    "df_30['embedding'] = df['content'].apply(generate_embedding, args=[api_key, model])"
   ],
   "outputs": [
    {
     "ename": "NameError",
     "evalue": "name 'model' is not defined",
     "output_type": "error",
     "traceback": [
      "\u001B[31m---------------------------------------------------------------------------\u001B[39m",
      "\u001B[31mNameError\u001B[39m                                 Traceback (most recent call last)",
      "\u001B[36mCell\u001B[39m\u001B[36m \u001B[39m\u001B[32mIn[6]\u001B[39m\u001B[32m, line 1\u001B[39m\n\u001B[32m----> \u001B[39m\u001B[32m1\u001B[39m df_30[\u001B[33m'\u001B[39m\u001B[33membedding\u001B[39m\u001B[33m'\u001B[39m] = df[\u001B[33m'\u001B[39m\u001B[33mcontent\u001B[39m\u001B[33m'\u001B[39m].apply(generate_embedding, args=[api_key, \u001B[43mmodel\u001B[49m])\n",
      "\u001B[31mNameError\u001B[39m: name 'model' is not defined"
     ]
    }
   ],
   "execution_count": 6
  },
  {
   "cell_type": "markdown",
   "metadata": {},
   "source": [
    "Insert documents in supabase table, IMPORTANT: change function so supabase table name can be changed"
   ]
  },
  {
   "cell_type": "code",
   "metadata": {},
   "source": [
    "insert_documents(df)"
   ],
   "outputs": [],
   "execution_count": null
  },
  {
   "cell_type": "markdown",
   "metadata": {},
   "source": [
    "Connect to Supabase"
   ]
  },
  {
   "cell_type": "code",
   "metadata": {},
   "source": [
    "#Connect to Supabase\n",
    " ### Supabase Credentials\n",
    "SUPABASE_URL = \"https://rrjbrtbsvdoxndchvchq.supabase.co\"\n",
    "SUPABASE_KEY = supabase_key\n",
    "\n",
    "\n",
    "# Create Supabase client\n",
    "supabase = create_client(SUPABASE_URL, SUPABASE_KEY)"
   ],
   "outputs": [],
   "execution_count": null
  },
  {
   "cell_type": "markdown",
   "metadata": {},
   "source": [
    "Retrieve Documents for Each Query Across All Models"
   ]
  },
  {
   "cell_type": "code",
   "metadata": {},
   "source": [
    "# Initialize a list to collect data\n",
    "\n",
    "models = [\"gpt\",  \"claude\", \"mistral\", \"cohere\", \"deepseek\"]\n",
    "# retrieval_results structure: { model_name: { query: [list of document results] } }\n",
    "retrieval_results = {model: {} for model in models}\n",
    "\n",
    "for model in models:\n",
    "    for query in test_queries:\n",
    "        # Set re_rank=True if you wish to re-rank documents using the LLM.\n",
    "        retrieval_results[model][query] = retrieve(query, model, k=4, re_rank=True)\n",
    "print(\"Retrieval complete for all models and queries.\")"
   ],
   "outputs": [],
   "execution_count": null
  },
  {
   "cell_type": "code",
   "metadata": {},
   "source": [],
   "outputs": [],
   "execution_count": null
  }
 ],
 "metadata": {
  "kernelspec": {
   "display_name": ".venv",
   "language": "python",
   "name": "python3"
  },
  "language_info": {
   "codemirror_mode": {
    "name": "ipython",
    "version": 3
   },
   "file_extension": ".py",
   "mimetype": "text/x-python",
   "name": "python",
   "nbconvert_exporter": "python",
   "pygments_lexer": "ipython3",
   "version": "3.13.3"
  }
 },
 "nbformat": 4,
 "nbformat_minor": 2
}
