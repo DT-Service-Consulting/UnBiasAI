{
 "cells": [
  {
   "cell_type": "markdown",
   "metadata": {},
   "source": [
    "# Tutorial Retrieval Recency Bias\n",
    "\n",
    "\n",
    "\n",
    "#### Imports"
   ]
  },
  {
   "cell_type": "code",
   "execution_count": null,
   "metadata": {
    "ExecuteTime": {
     "end_time": "2025-05-08T14:03:50.111118Z",
     "start_time": "2025-05-08T14:03:48.587096Z"
    }
   },
   "outputs": [],
   "source": [
    "import pandas as pd\n",
    "import os\n",
    "import re\n",
    "from dotenv import load_dotenv\n",
    "from unbiasai.config import DATA_DIR\n",
    "from unbiasai.utils import initialize_llm, generate_embeddings, insert_documents, retrieve, get_documents_from_supabase, convert_to_doc_objects, create_reranking_prompt, perform_llm_reranking, format_results, extract_created_datetime\n",
    "from supabase import create_client, Client\n",
    "from unbiasai.connection import create_supabase_client\n",
    "from dtsc_queries.retrieval_recency import test_queries\n",
    "from langchain.schema import SystemMessage, HumanMessage\n",
    "from datetime import datetime\n",
    "\n",
    "from unbiasai.config import ENVFILE\n",
    "load_dotenv(ENVFILE)"
   ]
  },
  {
   "cell_type": "markdown",
   "metadata": {},
   "source": [
    "## 1. Load data\n",
    "Set the path and read your CSV data."
   ]
  },
  {
   "cell_type": "code",
   "execution_count": null,
   "metadata": {
    "ExecuteTime": {
     "end_time": "2025-05-08T14:03:50.119111Z",
     "start_time": "2025-05-02T14:26:28.806800Z"
    }
   },
   "outputs": [],
   "source": [
    "file_path = DATA_DIR / 'dataset_retrieval_recency.csv'\n",
    "df = pd.read_csv(file_path)"
   ]
  },
  {
   "cell_type": "markdown",
   "metadata": {},
   "source": [
    "Optional: Create subset of data for test"
   ]
  },
  {
   "cell_type": "code",
   "execution_count": null,
   "metadata": {
    "ExecuteTime": {
     "end_time": "2025-05-08T14:03:50.140801Z",
     "start_time": "2025-05-02T14:26:28.818492Z"
    }
   },
   "outputs": [],
   "source": [
    "# df = df.head(15)"
   ]
  },
  {
   "cell_type": "markdown",
   "metadata": {},
   "source": [
    "Define and initialize LLMs and read your own API Keys"
   ]
  },
  {
   "cell_type": "code",
   "execution_count": null,
   "metadata": {},
   "outputs": [],
   "source": [
    "models = [\"gpt\", \"claude\", \"mistral\", \"cohere\", \"deepseek\"]\n",
    "models = [\"gpt\", \"mistral\", \"cohere\", \"deepseek\"]\n",
    "initialized_models = {}\n",
    "\n",
    "for model_name in models:\n",
    "    initialized_models[model_name] = initialize_llm(model_name)"
   ]
  },
  {
   "cell_type": "markdown",
   "metadata": {},
   "source": [
    "## 2. Connect to Supabase and create a Vector Store\n",
    "Connect to Supabase"
   ]
  },
  {
   "cell_type": "code",
   "execution_count": null,
   "metadata": {
    "ExecuteTime": {
     "end_time": "2025-05-08T14:03:50.166492Z",
     "start_time": "2025-05-02T14:26:28.825871Z"
    }
   },
   "outputs": [],
   "source": [
    "url: str = os.environ.get(\"SUPABASE_URL\")\n",
    "key: str = os.environ.get(\"SUPABASE_KEY\")\n",
    "supabase_client: Client = create_client(url, key)"
   ]
  },
  {
   "cell_type": "markdown",
   "metadata": {},
   "source": [
    "!!! If embeddings are already stored in Supabase, skip until 3.\n",
    "\n",
    "Apply the generate_embedding function to your data."
   ]
  },
  {
   "cell_type": "code",
   "execution_count": null,
   "metadata": {
    "ExecuteTime": {
     "end_time": "2025-05-08T14:03:50.166709Z",
     "start_time": "2025-05-02T14:27:05.789137Z"
    }
   },
   "outputs": [],
   "source": [
    "df['embedding'] = df['content'].apply(generate_embeddings)"
   ]
  },
  {
   "cell_type": "markdown",
   "metadata": {},
   "source": [
    "Insert your new df including the embeddings in the supabase table to create a vector store."
   ]
  },
  {
   "cell_type": "code",
   "execution_count": null,
   "metadata": {},
   "outputs": [],
   "source": [
    "insert_documents(df, supabase_client)\n",
    "# IMPORTANT: change function so supabase table name can be changed."
   ]
  },
  {
   "cell_type": "markdown",
   "metadata": {},
   "source": [
    "# 3. Define your Test Queries"
   ]
  },
  {
   "cell_type": "code",
   "execution_count": null,
   "metadata": {},
   "outputs": [],
   "source": [
    "test_queries = [\n",
    "    \"What is test query 1?\",\n",
    "    \"What is test query 2?\",\n",
    "    \"What is test query 3?\",\n",
    "]"
   ]
  },
  {
   "cell_type": "code",
   "execution_count": null,
   "metadata": {},
   "outputs": [],
   "source": [
    "test_queries = [\n",
    "    \"How can I connect to Outlook Web?\", # 3985\n",
    "    \"How can I access my Officient Calendar?\", # 3986\n",
    "    \"Bannière?\", # 3987\n",
    "    \"What are the cafeteria plan benefits?\", # 3989\n",
    "    \"What about my car configuration offer?\", # 3990\n",
    "    \"How do I create a Canva?\", # 3991\n",
    "    \"What about chargemap business?\", # 3992\n",
    "    \"What is the Moodboard?\", # 3993\n",
    "    \"What about Chargemap (domicile)?\", # 3994\n",
    "    \"What about Connecting Expertise?\", # 3995\n",
    "    \"What's the BeCentral address?\", # 3996\n",
    "    \"What about a Microsoft 365 license?\", # 3997\n",
    "    \"What about Google Calendar\", # 3998\n",
    "    \"How to modify a page on dtsc.be?\", # 3999\n",
    "    \"What are compensatory rest days?\", # 4000\n",
    "    \"How do I access the shared library?\", # 4001\n",
    "    \"What is the login for StaffIT?\", # 4003\n",
    "    \"How can I export contacts from Odoo?\", # 4005\n",
    "    \"How can I export leads from Odoo?\", # 4006\n",
    "    \"What is the structure for OneDrive?\", # 4007\n",
    "    \"Who is responsible in case of a traffic fine?\", # 4008\n",
    "    \"What about dtsc.be performance?\", # 4010\n",
    "    \"What about mailing lists?\", # 4011\n",
    "    \"What about a green card?\", # 4014\n",
    "    \"Where is the Internship Agreement?\", # 4015\n",
    "    \"What about the company credit card?\", # 4016\n",
    "    \"How to create a teams meeting from Google Agenda?\", # 4017\n",
    "    \"What about Supplementary Family Allowances?\", # 4018\n",
    "    \"On what days does the company post on LinkedIn?\", # 4019\n",
    "    \"What activities are included in the DTeam Spirit Challenge?\", # 4020\n",
    "    \"What are the limits for the mobility budget?\", # 4021\n",
    "    \"What about Nexxtmove?\", # 4024\n",
    "    \"How to use Odoo for CRM?\", # 4025\n",
    "    \"What about Officient employee self-service?\", # 4026\n",
    "    \"What about the Onboarding To Do List?\", # 4027\n",
    "    \"What about birth leave?\", # 4028\n",
    "    \"What about dtsc.odoo.com?\", # 4030\n",
    "    \"What about ProUnity?\", # 4031\n",
    "    \"What about a hiring bonus?\", # 4032\n",
    "    \"What about Powerdale?\", # 4034\n",
    "    \"What about Single Permits?\", # 4035\n",
    "    \"What about the BNP application?\", # 4037\n",
    "    \"What about Elia?\", # 4038\n",
    "    \"What about Subsidies?\", # 4040\n",
    "    \"Who are our suppliers?\", # 4041\n",
    "    \"What is TED?\", # 4042\n",
    "    \"How to activate Music Streaming?\", # 4043\n",
    "    \"What is Scrum for?\", # 4046\n",
    "    \"How to add a Shared Mailbox?\", # 4047\n",
    "    \"What about BNP Paribas warrants?\" # 4048\n",
    "]"
   ]
  },
  {
   "cell_type": "markdown",
   "metadata": {},
   "source": [
    "# 4. Retrieve and Rerank Documents for Each Query Across All Models"
   ]
  },
  {
   "cell_type": "markdown",
   "metadata": {},
   "source": [
    "Specify the models you want to test. "
   ]
  },
  {
   "cell_type": "code",
   "execution_count": null,
   "metadata": {},
   "outputs": [],
   "source": [
    "retrieval_results = {}\n",
    "for model_name, model in initialized_models.items():\n",
    "    print(f\"Running retrieval with model: {model_name}\")\n",
    "    retrieval_results[model_name] = {}\n",
    "    \n",
    "    for query in test_queries:\n",
    "        print(f\"  Processing query: {query[:30]}...\")\n",
    "        retrieval_results[model_name][query] = retrieve(\n",
    "            query, model, supabase_client, function_name='match_documents_recency_no_filter', k=4, re_rank=True\n",
    "        )\n",
    "    \n",
    "    print(f\"✓ Completed all queries for {model_name}\")\n",
    "\n",
    "print(\"Retrieval complete for all models and queries.\")"
   ]
  },
  {
   "cell_type": "markdown",
   "metadata": {},
   "source": [
    "# 5. Process the Rankings\n",
    "Define 'pattern' to match the 'created' date with regex."
   ]
  },
  {
   "cell_type": "code",
   "execution_count": null,
   "metadata": {},
   "outputs": [],
   "source": [
    "# Initialize a list to collect data\n",
    "data = []\n",
    "\n",
    "# Iterate over each model and its corresponding queries\n",
    "for model, queries in retrieval_results.items():\n",
    "    for query, documents in queries.items():\n",
    "        for doc in documents:\n",
    "            created_datetime = extract_created_datetime(doc['content'], pattern=r'createdDateTime[\":]*(\\d{4}-\\d{2}-\\d{2}T\\d{2}:\\d{2}:\\d{2}(?:\\.\\d+)?Z)')\n",
    "            data.append((model, query, doc['rank'], doc['id'], created_datetime))\n",
    "\n",
    "\n",
    "# Create a DataFrame from the collected data\n",
    "df = pd.DataFrame(data, columns=['Model', 'Query', 'Rank', 'Document ID', 'Created DateTime'])"
   ]
  },
  {
   "cell_type": "markdown",
   "metadata": {},
   "source": [
    "Define the date categories"
   ]
  },
  {
   "cell_type": "code",
   "execution_count": null,
   "metadata": {},
   "outputs": [],
   "source": [
    "# Define the date categories\n",
    "date_categories = ['newest', 'newer', 'older', 'oldest']\n",
    "\n",
    "# Sort and assign date categories within each group\n",
    "df['date_category'] = (\n",
    "    df.sort_values(by='Created DateTime', ascending=False)\n",
    "    .groupby(['Model', 'Query'])\n",
    "    .cumcount()\n",
    "    .map({i: category for i, category in enumerate(date_categories)})\n",
    ")"
   ]
  },
  {
   "cell_type": "code",
   "execution_count": null,
   "metadata": {},
   "outputs": [],
   "source": [
    "df.head()"
   ]
  },
  {
   "cell_type": "code",
   "execution_count": null,
   "metadata": {},
   "outputs": [],
   "source": []
  }
 ],
 "metadata": {
  "kernelspec": {
   "display_name": ".venv",
   "language": "python",
   "name": "python3"
  },
  "language_info": {
   "codemirror_mode": {
    "name": "ipython",
    "version": 3
   },
   "file_extension": ".py",
   "mimetype": "text/x-python",
   "name": "python",
   "nbconvert_exporter": "python",
   "pygments_lexer": "ipython3",
   "version": "3.13.3"
  }
 },
 "nbformat": 4,
 "nbformat_minor": 4
}
